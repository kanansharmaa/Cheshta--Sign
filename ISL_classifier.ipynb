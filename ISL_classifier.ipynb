{
  "cells": [
    {
      "cell_type": "code",
      "execution_count": 1,
      "metadata": {
        "id": "JIOzYKNkOh1t"
      },
      "outputs": [],
      "source": [
        "import pandas as pd\n",
        "import numpy as np\n",
        "import matplotlib.pyplot as plt\n",
        "import tensorflow as tf\n",
        "from tensorflow import keras\n",
        "from tensorflow.keras import layers\n",
        "from sklearn.model_selection import train_test_split\n",
        "from sklearn.preprocessing import LabelEncoder\n",
        "from sklearn.metrics import accuracy_score, precision_score, recall_score, f1_score\n",
        "\n"
      ]
    },
    {
      "cell_type": "code",
      "execution_count": 2,
      "metadata": {
        "id": "4on_iLLLO87q"
      },
      "outputs": [],
      "source": [
        "data = pd.read_csv('keypoint.csv',header=None)"
      ]
    },
    {
      "cell_type": "code",
      "execution_count": 3,
      "metadata": {
        "id": "QfkE0RZmguGd"
      },
      "outputs": [],
      "source": [
        "data[0] = data[0].astype(str)"
      ]
    },
    {
      "cell_type": "code",
      "execution_count": 4,
      "metadata": {
        "colab": {
          "base_uri": "https://localhost:8080/"
        },
        "id": "SyrM0MDTPiGl",
        "outputId": "7189ea03-20f9-4519-d555-84d46e4f2794"
      },
      "outputs": [
        {
          "data": {
            "text/plain": [
              "array(['A', 'B', 'C', 'p', 'j', '.', '0', '1', '2', '3', '4', '5', '6',\n",
              "       '7', '8', '9'], dtype=object)"
            ]
          },
          "execution_count": 4,
          "metadata": {},
          "output_type": "execute_result"
        }
      ],
      "source": [
        "data[0].unique()"
      ]
    },
    {
      "cell_type": "code",
      "execution_count": 5,
      "metadata": {
        "colab": {
          "base_uri": "https://localhost:8080/",
          "height": 487
        },
        "id": "OC5TcyT9U63v",
        "outputId": "a07aab43-c24a-40da-a50e-eef9f04f4f4d"
      },
      "outputs": [
        {
          "data": {
            "text/html": [
              "<div>\n",
              "<style scoped>\n",
              "    .dataframe tbody tr th:only-of-type {\n",
              "        vertical-align: middle;\n",
              "    }\n",
              "\n",
              "    .dataframe tbody tr th {\n",
              "        vertical-align: top;\n",
              "    }\n",
              "\n",
              "    .dataframe thead th {\n",
              "        text-align: right;\n",
              "    }\n",
              "</style>\n",
              "<table border=\"1\" class=\"dataframe\">\n",
              "  <thead>\n",
              "    <tr style=\"text-align: right;\">\n",
              "      <th></th>\n",
              "      <th>1</th>\n",
              "      <th>2</th>\n",
              "      <th>3</th>\n",
              "      <th>4</th>\n",
              "      <th>5</th>\n",
              "      <th>6</th>\n",
              "      <th>7</th>\n",
              "      <th>8</th>\n",
              "      <th>9</th>\n",
              "      <th>10</th>\n",
              "      <th>...</th>\n",
              "      <th>33</th>\n",
              "      <th>34</th>\n",
              "      <th>35</th>\n",
              "      <th>36</th>\n",
              "      <th>37</th>\n",
              "      <th>38</th>\n",
              "      <th>39</th>\n",
              "      <th>40</th>\n",
              "      <th>41</th>\n",
              "      <th>42</th>\n",
              "    </tr>\n",
              "  </thead>\n",
              "  <tbody>\n",
              "    <tr>\n",
              "      <th>0</th>\n",
              "      <td>0.0</td>\n",
              "      <td>0.0</td>\n",
              "      <td>0.315789</td>\n",
              "      <td>-0.184211</td>\n",
              "      <td>0.657895</td>\n",
              "      <td>-0.421053</td>\n",
              "      <td>0.842105</td>\n",
              "      <td>-0.631579</td>\n",
              "      <td>1.000000</td>\n",
              "      <td>-0.868421</td>\n",
              "      <td>...</td>\n",
              "      <td>0.263158</td>\n",
              "      <td>0.105263</td>\n",
              "      <td>-0.078947</td>\n",
              "      <td>0.052632</td>\n",
              "      <td>0.210526</td>\n",
              "      <td>0.315789</td>\n",
              "      <td>0.157895</td>\n",
              "      <td>0.315789</td>\n",
              "      <td>0.052632</td>\n",
              "      <td>0.236842</td>\n",
              "    </tr>\n",
              "    <tr>\n",
              "      <th>1</th>\n",
              "      <td>0.0</td>\n",
              "      <td>0.0</td>\n",
              "      <td>-0.272727</td>\n",
              "      <td>-0.204545</td>\n",
              "      <td>-0.590909</td>\n",
              "      <td>-0.386364</td>\n",
              "      <td>-0.818182</td>\n",
              "      <td>-0.522727</td>\n",
              "      <td>-1.000000</td>\n",
              "      <td>-0.704545</td>\n",
              "      <td>...</td>\n",
              "      <td>-0.363636</td>\n",
              "      <td>0.136364</td>\n",
              "      <td>-0.068182</td>\n",
              "      <td>0.090909</td>\n",
              "      <td>-0.431818</td>\n",
              "      <td>0.272727</td>\n",
              "      <td>-0.363636</td>\n",
              "      <td>0.295455</td>\n",
              "      <td>-0.250000</td>\n",
              "      <td>0.250000</td>\n",
              "    </tr>\n",
              "    <tr>\n",
              "      <th>2</th>\n",
              "      <td>0.0</td>\n",
              "      <td>0.0</td>\n",
              "      <td>0.289474</td>\n",
              "      <td>-0.184211</td>\n",
              "      <td>0.631579</td>\n",
              "      <td>-0.394737</td>\n",
              "      <td>0.842105</td>\n",
              "      <td>-0.605263</td>\n",
              "      <td>1.000000</td>\n",
              "      <td>-0.842105</td>\n",
              "      <td>...</td>\n",
              "      <td>0.210526</td>\n",
              "      <td>0.131579</td>\n",
              "      <td>-0.105263</td>\n",
              "      <td>0.078947</td>\n",
              "      <td>0.157895</td>\n",
              "      <td>0.368421</td>\n",
              "      <td>0.105263</td>\n",
              "      <td>0.342105</td>\n",
              "      <td>0.000000</td>\n",
              "      <td>0.263158</td>\n",
              "    </tr>\n",
              "    <tr>\n",
              "      <th>3</th>\n",
              "      <td>0.0</td>\n",
              "      <td>0.0</td>\n",
              "      <td>-0.295455</td>\n",
              "      <td>-0.204545</td>\n",
              "      <td>-0.590909</td>\n",
              "      <td>-0.409091</td>\n",
              "      <td>-0.818182</td>\n",
              "      <td>-0.545455</td>\n",
              "      <td>-1.000000</td>\n",
              "      <td>-0.727273</td>\n",
              "      <td>...</td>\n",
              "      <td>-0.363636</td>\n",
              "      <td>0.090909</td>\n",
              "      <td>-0.090909</td>\n",
              "      <td>0.068182</td>\n",
              "      <td>-0.431818</td>\n",
              "      <td>0.250000</td>\n",
              "      <td>-0.363636</td>\n",
              "      <td>0.272727</td>\n",
              "      <td>-0.227273</td>\n",
              "      <td>0.204545</td>\n",
              "    </tr>\n",
              "    <tr>\n",
              "      <th>4</th>\n",
              "      <td>0.0</td>\n",
              "      <td>0.0</td>\n",
              "      <td>0.315789</td>\n",
              "      <td>-0.210526</td>\n",
              "      <td>0.631579</td>\n",
              "      <td>-0.394737</td>\n",
              "      <td>0.842105</td>\n",
              "      <td>-0.605263</td>\n",
              "      <td>1.000000</td>\n",
              "      <td>-0.842105</td>\n",
              "      <td>...</td>\n",
              "      <td>0.236842</td>\n",
              "      <td>0.131579</td>\n",
              "      <td>-0.105263</td>\n",
              "      <td>0.078947</td>\n",
              "      <td>0.184211</td>\n",
              "      <td>0.342105</td>\n",
              "      <td>0.131579</td>\n",
              "      <td>0.315789</td>\n",
              "      <td>0.026316</td>\n",
              "      <td>0.236842</td>\n",
              "    </tr>\n",
              "    <tr>\n",
              "      <th>...</th>\n",
              "      <td>...</td>\n",
              "      <td>...</td>\n",
              "      <td>...</td>\n",
              "      <td>...</td>\n",
              "      <td>...</td>\n",
              "      <td>...</td>\n",
              "      <td>...</td>\n",
              "      <td>...</td>\n",
              "      <td>...</td>\n",
              "      <td>...</td>\n",
              "      <td>...</td>\n",
              "      <td>...</td>\n",
              "      <td>...</td>\n",
              "      <td>...</td>\n",
              "      <td>...</td>\n",
              "      <td>...</td>\n",
              "      <td>...</td>\n",
              "      <td>...</td>\n",
              "      <td>...</td>\n",
              "      <td>...</td>\n",
              "      <td>...</td>\n",
              "    </tr>\n",
              "    <tr>\n",
              "      <th>65279</th>\n",
              "      <td>0.0</td>\n",
              "      <td>0.0</td>\n",
              "      <td>0.189189</td>\n",
              "      <td>0.256757</td>\n",
              "      <td>0.527027</td>\n",
              "      <td>0.405405</td>\n",
              "      <td>0.756757</td>\n",
              "      <td>0.527027</td>\n",
              "      <td>0.918919</td>\n",
              "      <td>0.689189</td>\n",
              "      <td>...</td>\n",
              "      <td>0.527027</td>\n",
              "      <td>-0.202703</td>\n",
              "      <td>0.540541</td>\n",
              "      <td>-0.500000</td>\n",
              "      <td>0.756757</td>\n",
              "      <td>-0.635135</td>\n",
              "      <td>0.675676</td>\n",
              "      <td>-0.500000</td>\n",
              "      <td>0.621622</td>\n",
              "      <td>-0.405405</td>\n",
              "    </tr>\n",
              "    <tr>\n",
              "      <th>65280</th>\n",
              "      <td>0.0</td>\n",
              "      <td>0.0</td>\n",
              "      <td>0.189189</td>\n",
              "      <td>0.270270</td>\n",
              "      <td>0.513514</td>\n",
              "      <td>0.418919</td>\n",
              "      <td>0.756757</td>\n",
              "      <td>0.540541</td>\n",
              "      <td>0.918919</td>\n",
              "      <td>0.689189</td>\n",
              "      <td>...</td>\n",
              "      <td>0.527027</td>\n",
              "      <td>-0.189189</td>\n",
              "      <td>0.540541</td>\n",
              "      <td>-0.486486</td>\n",
              "      <td>0.756757</td>\n",
              "      <td>-0.635135</td>\n",
              "      <td>0.675676</td>\n",
              "      <td>-0.500000</td>\n",
              "      <td>0.621622</td>\n",
              "      <td>-0.391892</td>\n",
              "    </tr>\n",
              "    <tr>\n",
              "      <th>65281</th>\n",
              "      <td>0.0</td>\n",
              "      <td>0.0</td>\n",
              "      <td>0.189189</td>\n",
              "      <td>0.283784</td>\n",
              "      <td>0.513514</td>\n",
              "      <td>0.432432</td>\n",
              "      <td>0.756757</td>\n",
              "      <td>0.554054</td>\n",
              "      <td>0.918919</td>\n",
              "      <td>0.689189</td>\n",
              "      <td>...</td>\n",
              "      <td>0.527027</td>\n",
              "      <td>-0.202703</td>\n",
              "      <td>0.540541</td>\n",
              "      <td>-0.486486</td>\n",
              "      <td>0.756757</td>\n",
              "      <td>-0.621622</td>\n",
              "      <td>0.675676</td>\n",
              "      <td>-0.486486</td>\n",
              "      <td>0.621622</td>\n",
              "      <td>-0.378378</td>\n",
              "    </tr>\n",
              "    <tr>\n",
              "      <th>65282</th>\n",
              "      <td>0.0</td>\n",
              "      <td>0.0</td>\n",
              "      <td>0.202703</td>\n",
              "      <td>0.256757</td>\n",
              "      <td>0.513514</td>\n",
              "      <td>0.405405</td>\n",
              "      <td>0.756757</td>\n",
              "      <td>0.540541</td>\n",
              "      <td>0.918919</td>\n",
              "      <td>0.675676</td>\n",
              "      <td>...</td>\n",
              "      <td>0.527027</td>\n",
              "      <td>-0.202703</td>\n",
              "      <td>0.527027</td>\n",
              "      <td>-0.486486</td>\n",
              "      <td>0.743243</td>\n",
              "      <td>-0.608108</td>\n",
              "      <td>0.675676</td>\n",
              "      <td>-0.500000</td>\n",
              "      <td>0.635135</td>\n",
              "      <td>-0.391892</td>\n",
              "    </tr>\n",
              "    <tr>\n",
              "      <th>65283</th>\n",
              "      <td>0.0</td>\n",
              "      <td>0.0</td>\n",
              "      <td>0.202703</td>\n",
              "      <td>0.256757</td>\n",
              "      <td>0.500000</td>\n",
              "      <td>0.405405</td>\n",
              "      <td>0.743243</td>\n",
              "      <td>0.540541</td>\n",
              "      <td>0.905405</td>\n",
              "      <td>0.675676</td>\n",
              "      <td>...</td>\n",
              "      <td>0.527027</td>\n",
              "      <td>-0.202703</td>\n",
              "      <td>0.527027</td>\n",
              "      <td>-0.486486</td>\n",
              "      <td>0.743243</td>\n",
              "      <td>-0.621622</td>\n",
              "      <td>0.675676</td>\n",
              "      <td>-0.500000</td>\n",
              "      <td>0.621622</td>\n",
              "      <td>-0.391892</td>\n",
              "    </tr>\n",
              "  </tbody>\n",
              "</table>\n",
              "<p>65284 rows × 42 columns</p>\n",
              "</div>"
            ],
            "text/plain": [
              "        1    2         3         4         5         6         7         8   \\\n",
              "0      0.0  0.0  0.315789 -0.184211  0.657895 -0.421053  0.842105 -0.631579   \n",
              "1      0.0  0.0 -0.272727 -0.204545 -0.590909 -0.386364 -0.818182 -0.522727   \n",
              "2      0.0  0.0  0.289474 -0.184211  0.631579 -0.394737  0.842105 -0.605263   \n",
              "3      0.0  0.0 -0.295455 -0.204545 -0.590909 -0.409091 -0.818182 -0.545455   \n",
              "4      0.0  0.0  0.315789 -0.210526  0.631579 -0.394737  0.842105 -0.605263   \n",
              "...    ...  ...       ...       ...       ...       ...       ...       ...   \n",
              "65279  0.0  0.0  0.189189  0.256757  0.527027  0.405405  0.756757  0.527027   \n",
              "65280  0.0  0.0  0.189189  0.270270  0.513514  0.418919  0.756757  0.540541   \n",
              "65281  0.0  0.0  0.189189  0.283784  0.513514  0.432432  0.756757  0.554054   \n",
              "65282  0.0  0.0  0.202703  0.256757  0.513514  0.405405  0.756757  0.540541   \n",
              "65283  0.0  0.0  0.202703  0.256757  0.500000  0.405405  0.743243  0.540541   \n",
              "\n",
              "             9         10  ...        33        34        35        36  \\\n",
              "0      1.000000 -0.868421  ...  0.263158  0.105263 -0.078947  0.052632   \n",
              "1     -1.000000 -0.704545  ... -0.363636  0.136364 -0.068182  0.090909   \n",
              "2      1.000000 -0.842105  ...  0.210526  0.131579 -0.105263  0.078947   \n",
              "3     -1.000000 -0.727273  ... -0.363636  0.090909 -0.090909  0.068182   \n",
              "4      1.000000 -0.842105  ...  0.236842  0.131579 -0.105263  0.078947   \n",
              "...         ...       ...  ...       ...       ...       ...       ...   \n",
              "65279  0.918919  0.689189  ...  0.527027 -0.202703  0.540541 -0.500000   \n",
              "65280  0.918919  0.689189  ...  0.527027 -0.189189  0.540541 -0.486486   \n",
              "65281  0.918919  0.689189  ...  0.527027 -0.202703  0.540541 -0.486486   \n",
              "65282  0.918919  0.675676  ...  0.527027 -0.202703  0.527027 -0.486486   \n",
              "65283  0.905405  0.675676  ...  0.527027 -0.202703  0.527027 -0.486486   \n",
              "\n",
              "             37        38        39        40        41        42  \n",
              "0      0.210526  0.315789  0.157895  0.315789  0.052632  0.236842  \n",
              "1     -0.431818  0.272727 -0.363636  0.295455 -0.250000  0.250000  \n",
              "2      0.157895  0.368421  0.105263  0.342105  0.000000  0.263158  \n",
              "3     -0.431818  0.250000 -0.363636  0.272727 -0.227273  0.204545  \n",
              "4      0.184211  0.342105  0.131579  0.315789  0.026316  0.236842  \n",
              "...         ...       ...       ...       ...       ...       ...  \n",
              "65279  0.756757 -0.635135  0.675676 -0.500000  0.621622 -0.405405  \n",
              "65280  0.756757 -0.635135  0.675676 -0.500000  0.621622 -0.391892  \n",
              "65281  0.756757 -0.621622  0.675676 -0.486486  0.621622 -0.378378  \n",
              "65282  0.743243 -0.608108  0.675676 -0.500000  0.635135 -0.391892  \n",
              "65283  0.743243 -0.621622  0.675676 -0.500000  0.621622 -0.391892  \n",
              "\n",
              "[65284 rows x 42 columns]"
            ]
          },
          "execution_count": 5,
          "metadata": {},
          "output_type": "execute_result"
        }
      ],
      "source": [
        "X = data.iloc[:,1:]\n",
        "X"
      ]
    },
    {
      "cell_type": "code",
      "execution_count": 6,
      "metadata": {
        "id": "C6Fev9pFNPA4"
      },
      "outputs": [],
      "source": [
        "enc = LabelEncoder()"
      ]
    },
    {
      "cell_type": "code",
      "execution_count": 7,
      "metadata": {
        "colab": {
          "base_uri": "https://localhost:8080/"
        },
        "id": "GptfpfFZQ859",
        "outputId": "d8dcef55-f4b7-4b8b-adfb-2066770dd343"
      },
      "outputs": [
        {
          "name": "stderr",
          "output_type": "stream",
          "text": [
            "c:\\Users\\Kanan\\AppData\\Local\\Programs\\Python\\Python38\\lib\\site-packages\\sklearn\\preprocessing\\_label.py:114: DataConversionWarning: A column-vector y was passed when a 1d array was expected. Please change the shape of y to (n_samples, ), for example using ravel().\n",
            "  y = column_or_1d(y, warn=True)\n"
          ]
        },
        {
          "data": {
            "text/plain": [
              "array([11, 11, 11, ...,  7,  8,  9])"
            ]
          },
          "execution_count": 7,
          "metadata": {},
          "output_type": "execute_result"
        }
      ],
      "source": [
        "y = enc.fit_transform(data[[0]])\n",
        "y"
      ]
    },
    {
      "cell_type": "code",
      "execution_count": 8,
      "metadata": {
        "colab": {
          "base_uri": "https://localhost:8080/"
        },
        "id": "mXeK_Oh3lSGo",
        "outputId": "fd14d294-df98-4171-e4e1-da13d0c98ada"
      },
      "outputs": [
        {
          "name": "stdout",
          "output_type": "stream",
          "text": [
            "[11 11 11 ...  7  8  9]\n"
          ]
        }
      ],
      "source": [
        "print(y)"
      ]
    },
    {
      "cell_type": "code",
      "execution_count": 15,
      "metadata": {
        "id": "-725RwgrSiLh"
      },
      "outputs": [],
      "source": [
        "#from keras.callbacks import EarlyStopping\n",
        "#es = EarlyStopping(monitor='val_loss', mode='min', verbose=1, patience=2)"
      ]
    },
    {
      "cell_type": "code",
      "execution_count": 16,
      "metadata": {
        "id": "MoP6X2dFXtaq"
      },
      "outputs": [],
      "source": [
        "X_train, X_test, y_train, y_test = train_test_split(\n",
        "    X, y, test_size=0.2, random_state=42)"
      ]
    },
    {
      "cell_type": "code",
      "execution_count": 17,
      "metadata": {
        "id": "fwYKKiYKUDMp"
      },
      "outputs": [],
      "source": [
        "model = keras.Sequential([\n",
        "    layers.Dense(1470, activation='relu'),\n",
        "    layers.Dropout(0.5),\n",
        "    layers.Dense(832, activation='relu'),\n",
        "    layers.Dropout(0.5),\n",
        "    layers.Dense(428, activation='relu'),\n",
        "    layers.Dropout(0.5),\n",
        "    layers.Dense(264, activation='relu'),\n",
        "    layers.Dropout(0.5),\n",
        "    layers.Dense(35, activation='softmax')\n",
        "])"
      ]
    },
    {
      "cell_type": "code",
      "execution_count": 18,
      "metadata": {
        "id": "RZKhTkEfYd6i"
      },
      "outputs": [],
      "source": [
        "model.compile(loss = \"sparse_categorical_crossentropy\", optimizer = \"adam\", metrics=[\"accuracy\"])"
      ]
    },
    {
      "cell_type": "code",
      "execution_count": 20,
      "metadata": {
        "colab": {
          "base_uri": "https://localhost:8080/"
        },
        "id": "mLfTS486YqiG",
        "outputId": "4465dc13-0e94-4a54-d1b5-bb4c84e82635"
      },
      "outputs": [
        {
          "name": "stdout",
          "output_type": "stream",
          "text": [
            "Epoch 1/50\n",
            "327/327 [==============================] - 21s 65ms/step - loss: 1.2781 - accuracy: 0.6982 - val_loss: 1.1701 - val_accuracy: 0.7074\n",
            "Epoch 2/50\n",
            "327/327 [==============================] - 22s 67ms/step - loss: 1.2107 - accuracy: 0.7055 - val_loss: 1.1442 - val_accuracy: 0.7029\n",
            "Epoch 3/50\n",
            "327/327 [==============================] - 19s 60ms/step - loss: 1.1774 - accuracy: 0.7080 - val_loss: 1.1352 - val_accuracy: 0.7073\n",
            "Epoch 4/50\n",
            "327/327 [==============================] - 19s 58ms/step - loss: 1.1644 - accuracy: 0.7080 - val_loss: 1.1308 - val_accuracy: 0.7074\n",
            "Epoch 5/50\n",
            "327/327 [==============================] - 20s 62ms/step - loss: 1.1577 - accuracy: 0.7088 - val_loss: 1.1272 - val_accuracy: 0.7073\n",
            "Epoch 6/50\n",
            "327/327 [==============================] - 20s 61ms/step - loss: 1.1512 - accuracy: 0.7090 - val_loss: 1.1295 - val_accuracy: 0.7058\n",
            "Epoch 7/50\n",
            "327/327 [==============================] - 20s 61ms/step - loss: 1.1496 - accuracy: 0.7092 - val_loss: 1.1237 - val_accuracy: 0.7073\n",
            "Epoch 8/50\n",
            "327/327 [==============================] - 19s 59ms/step - loss: 1.1453 - accuracy: 0.7102 - val_loss: 1.1244 - val_accuracy: 0.7054\n",
            "Epoch 9/50\n",
            "327/327 [==============================] - 20s 63ms/step - loss: 1.1439 - accuracy: 0.7095 - val_loss: 1.1258 - val_accuracy: 0.7073\n",
            "Epoch 10/50\n",
            "327/327 [==============================] - 18s 56ms/step - loss: 1.1406 - accuracy: 0.7105 - val_loss: 1.1218 - val_accuracy: 0.7073\n",
            "Epoch 11/50\n",
            "327/327 [==============================] - 17s 52ms/step - loss: 1.1388 - accuracy: 0.7102 - val_loss: 1.1159 - val_accuracy: 0.7073\n",
            "Epoch 12/50\n",
            "327/327 [==============================] - 17s 52ms/step - loss: 1.1377 - accuracy: 0.7108 - val_loss: 1.1154 - val_accuracy: 0.7073\n",
            "Epoch 13/50\n",
            "327/327 [==============================] - 18s 54ms/step - loss: 1.1352 - accuracy: 0.7105 - val_loss: 1.1218 - val_accuracy: 0.7073\n",
            "Epoch 14/50\n",
            "327/327 [==============================] - 22s 68ms/step - loss: 1.1339 - accuracy: 0.7108 - val_loss: 1.1119 - val_accuracy: 0.7073\n",
            "Epoch 15/50\n",
            "327/327 [==============================] - 20s 61ms/step - loss: 1.1309 - accuracy: 0.7104 - val_loss: 1.1033 - val_accuracy: 0.7067\n",
            "Epoch 16/50\n",
            "327/327 [==============================] - 21s 63ms/step - loss: 1.1265 - accuracy: 0.7105 - val_loss: 1.0978 - val_accuracy: 0.7052\n",
            "Epoch 17/50\n",
            "327/327 [==============================] - 20s 60ms/step - loss: 1.1237 - accuracy: 0.7094 - val_loss: 1.1030 - val_accuracy: 0.7072\n",
            "Epoch 18/50\n",
            "327/327 [==============================] - 20s 60ms/step - loss: 1.1204 - accuracy: 0.7114 - val_loss: 1.0945 - val_accuracy: 0.7072\n",
            "Epoch 19/50\n",
            "327/327 [==============================] - 19s 58ms/step - loss: 1.1208 - accuracy: 0.7103 - val_loss: 1.0895 - val_accuracy: 0.7078\n",
            "Epoch 20/50\n",
            "327/327 [==============================] - 19s 59ms/step - loss: 1.1154 - accuracy: 0.7122 - val_loss: 1.0869 - val_accuracy: 0.7087\n",
            "Epoch 21/50\n",
            "327/327 [==============================] - 19s 57ms/step - loss: 1.1127 - accuracy: 0.7115 - val_loss: 1.0819 - val_accuracy: 0.7077\n",
            "Epoch 22/50\n",
            "327/327 [==============================] - 19s 57ms/step - loss: 1.1098 - accuracy: 0.7118 - val_loss: 1.0842 - val_accuracy: 0.7090\n",
            "Epoch 23/50\n",
            "327/327 [==============================] - 19s 58ms/step - loss: 1.1078 - accuracy: 0.7115 - val_loss: 1.0730 - val_accuracy: 0.7087\n",
            "Epoch 24/50\n",
            "327/327 [==============================] - 19s 59ms/step - loss: 1.1038 - accuracy: 0.7115 - val_loss: 1.0723 - val_accuracy: 0.7085\n",
            "Epoch 25/50\n",
            "327/327 [==============================] - 20s 60ms/step - loss: 1.1028 - accuracy: 0.7111 - val_loss: 1.0808 - val_accuracy: 0.7088\n",
            "Epoch 26/50\n",
            "327/327 [==============================] - 20s 60ms/step - loss: 1.1030 - accuracy: 0.7109 - val_loss: 1.0699 - val_accuracy: 0.7084\n",
            "Epoch 27/50\n",
            "327/327 [==============================] - 19s 59ms/step - loss: 1.0975 - accuracy: 0.7107 - val_loss: 1.0764 - val_accuracy: 0.7088\n",
            "Epoch 28/50\n",
            "327/327 [==============================] - 20s 60ms/step - loss: 1.0944 - accuracy: 0.7118 - val_loss: 1.0659 - val_accuracy: 0.7086\n",
            "Epoch 29/50\n",
            "327/327 [==============================] - 20s 60ms/step - loss: 1.0927 - accuracy: 0.7119 - val_loss: 1.0630 - val_accuracy: 0.7085\n",
            "Epoch 30/50\n",
            "327/327 [==============================] - 19s 59ms/step - loss: 1.0900 - accuracy: 0.7122 - val_loss: 1.0647 - val_accuracy: 0.7095\n",
            "Epoch 31/50\n",
            "327/327 [==============================] - 18s 55ms/step - loss: 1.0870 - accuracy: 0.7114 - val_loss: 1.0490 - val_accuracy: 0.7086\n",
            "Epoch 32/50\n",
            "327/327 [==============================] - 19s 57ms/step - loss: 1.0835 - accuracy: 0.7118 - val_loss: 1.0456 - val_accuracy: 0.7096\n",
            "Epoch 33/50\n",
            "327/327 [==============================] - 19s 58ms/step - loss: 1.0846 - accuracy: 0.7122 - val_loss: 1.0496 - val_accuracy: 0.7087\n",
            "Epoch 34/50\n",
            "327/327 [==============================] - 20s 60ms/step - loss: 1.0794 - accuracy: 0.7121 - val_loss: 1.0440 - val_accuracy: 0.7085\n",
            "Epoch 35/50\n",
            "327/327 [==============================] - 19s 59ms/step - loss: 1.0764 - accuracy: 0.7120 - val_loss: 1.0413 - val_accuracy: 0.7088\n",
            "Epoch 36/50\n",
            "327/327 [==============================] - 20s 61ms/step - loss: 1.0763 - accuracy: 0.7118 - val_loss: 1.0376 - val_accuracy: 0.7088\n",
            "Epoch 37/50\n",
            "327/327 [==============================] - 19s 57ms/step - loss: 1.0718 - accuracy: 0.7113 - val_loss: 1.0446 - val_accuracy: 0.7088\n",
            "Epoch 38/50\n",
            "327/327 [==============================] - 19s 58ms/step - loss: 1.0734 - accuracy: 0.7121 - val_loss: 1.0384 - val_accuracy: 0.7089\n",
            "Epoch 39/50\n",
            "327/327 [==============================] - 19s 59ms/step - loss: 1.0712 - accuracy: 0.7125 - val_loss: 1.0308 - val_accuracy: 0.7118\n",
            "Epoch 40/50\n",
            "327/327 [==============================] - 22s 66ms/step - loss: 1.0671 - accuracy: 0.7132 - val_loss: 1.0315 - val_accuracy: 0.7119\n",
            "Epoch 41/50\n",
            "327/327 [==============================] - 19s 57ms/step - loss: 1.0676 - accuracy: 0.7133 - val_loss: 1.0213 - val_accuracy: 0.7120\n",
            "Epoch 42/50\n",
            "327/327 [==============================] - 20s 60ms/step - loss: 1.0675 - accuracy: 0.7126 - val_loss: 1.0306 - val_accuracy: 0.7104\n",
            "Epoch 43/50\n",
            "327/327 [==============================] - 19s 58ms/step - loss: 1.0636 - accuracy: 0.7140 - val_loss: 1.0244 - val_accuracy: 0.7119\n",
            "Epoch 44/50\n",
            "327/327 [==============================] - 19s 58ms/step - loss: 1.0635 - accuracy: 0.7124 - val_loss: 1.0355 - val_accuracy: 0.7173\n",
            "Epoch 45/50\n",
            "327/327 [==============================] - 19s 58ms/step - loss: 1.0620 - accuracy: 0.7142 - val_loss: 1.0222 - val_accuracy: 0.7112\n",
            "Epoch 46/50\n",
            "327/327 [==============================] - 19s 58ms/step - loss: 1.0581 - accuracy: 0.7143 - val_loss: 1.0175 - val_accuracy: 0.7189\n",
            "Epoch 47/50\n",
            "327/327 [==============================] - 19s 58ms/step - loss: 1.0582 - accuracy: 0.7133 - val_loss: 1.0116 - val_accuracy: 0.7122\n",
            "Epoch 48/50\n",
            "327/327 [==============================] - 19s 58ms/step - loss: 1.0605 - accuracy: 0.7134 - val_loss: 1.0159 - val_accuracy: 0.7115\n",
            "Epoch 49/50\n",
            "327/327 [==============================] - 19s 59ms/step - loss: 1.0525 - accuracy: 0.7141 - val_loss: 1.0098 - val_accuracy: 0.7135\n",
            "Epoch 50/50\n",
            "327/327 [==============================] - 19s 58ms/step - loss: 1.0539 - accuracy: 0.7145 - val_loss: 1.0056 - val_accuracy: 0.7128\n"
          ]
        },
        {
          "data": {
            "text/plain": [
              "<keras.callbacks.History at 0x25808dcfb20>"
            ]
          },
          "execution_count": 20,
          "metadata": {},
          "output_type": "execute_result"
        }
      ],
      "source": [
        "model.fit(X_train, y_train, epochs = 50, batch_size = 128, validation_split = 0.2)"
      ]
    },
    {
      "cell_type": "code",
      "execution_count": 21,
      "metadata": {
        "colab": {
          "base_uri": "https://localhost:8080/"
        },
        "id": "APJrH5DCZPVz",
        "outputId": "e76defc1-3779-4590-ffc8-b2de65864047"
      },
      "outputs": [
        {
          "data": {
            "text/plain": [
              "[1.0315172672271729, 0.7149421572685242]"
            ]
          },
          "execution_count": 21,
          "metadata": {},
          "output_type": "execute_result"
        }
      ],
      "source": [
        "model.evaluate(X_test, y_test, verbose = 0)"
      ]
    },
    {
      "cell_type": "code",
      "execution_count": 22,
      "metadata": {
        "colab": {
          "base_uri": "https://localhost:8080/"
        },
        "id": "PMScXAuychzn",
        "outputId": "421238f9-dbfb-4be5-bad7-da5fdbf9dce9"
      },
      "outputs": [
        {
          "name": "stdout",
          "output_type": "stream",
          "text": [
            "409/409 [==============================] - 3s 7ms/step\n",
            "Accuracy: 0.7149421766102474\n",
            "Precision: 0.1966975627126782\n",
            "Recall: 0.20205031346868435\n",
            "F1-score: 0.17043347718506174\n"
          ]
        },
        {
          "name": "stderr",
          "output_type": "stream",
          "text": [
            "c:\\Users\\Kanan\\AppData\\Local\\Programs\\Python\\Python38\\lib\\site-packages\\sklearn\\metrics\\_classification.py:1471: UndefinedMetricWarning: Precision is ill-defined and being set to 0.0 in labels with no predicted samples. Use `zero_division` parameter to control this behavior.\n",
            "  _warn_prf(average, modifier, msg_start, len(result))\n"
          ]
        }
      ],
      "source": [
        "# evaluate the model on the validation set and compute performance metrics\n",
        "y_val_pred = model.predict(X_test)\n",
        "y_val_pred_classes = np.argmax(y_val_pred, axis=1)\n",
        "acc = accuracy_score(y_test, y_val_pred_classes)\n",
        "prec = precision_score(y_test, y_val_pred_classes, average='macro')\n",
        "rec = recall_score(y_test, y_val_pred_classes, average='macro')\n",
        "f1 = f1_score(y_test, y_val_pred_classes, average='macro')\n",
        "print(\"Accuracy:\", acc)\n",
        "print(\"Precision:\", prec)\n",
        "print(\"Recall:\", rec)\n",
        "print(\"F1-score:\", f1)"
      ]
    },
    {
      "cell_type": "code",
      "execution_count": 23,
      "metadata": {
        "id": "yphwMRARaZVL"
      },
      "outputs": [],
      "source": [
        "model.save(\"model.h5\")"
      ]
    }
  ],
  "metadata": {
    "colab": {
      "provenance": []
    },
    "kernelspec": {
      "display_name": "Python 3",
      "name": "python3"
    },
    "language_info": {
      "codemirror_mode": {
        "name": "ipython",
        "version": 3
      },
      "file_extension": ".py",
      "mimetype": "text/x-python",
      "name": "python",
      "nbconvert_exporter": "python",
      "pygments_lexer": "ipython3",
      "version": "3.8.8rc1"
    }
  },
  "nbformat": 4,
  "nbformat_minor": 0
}
